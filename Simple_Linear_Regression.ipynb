{
  "nbformat": 4,
  "nbformat_minor": 0,
  "metadata": {
    "colab": {
      "provenance": []
    },
    "kernelspec": {
      "name": "python3",
      "display_name": "Python 3"
    },
    "language_info": {
      "name": "python"
    }
  },
  "cells": [
    {
      "cell_type": "code",
      "execution_count": 1,
      "metadata": {
        "id": "18JelrFlG4xT",
        "colab": {
          "base_uri": "https://localhost:8080/"
        },
        "outputId": "0cfda111-38b9-4569-f2ab-e042fc029480"
      },
      "outputs": [
        {
          "output_type": "stream",
          "name": "stdout",
          "text": [
            "Collecting numpy==2.2.0\n",
            "  Downloading numpy-2.2.0-cp313-cp313-win_amd64.whl.metadata (60 kB)\n",
            "Downloading numpy-2.2.0-cp313-cp313-win_amd64.whl (12.6 MB)\n",
            "   ---------------------------------------- 0.0/12.6 MB ? eta -:--:--\n",
            "   -- ------------------------------------- 0.8/12.6 MB 4.6 MB/s eta 0:00:03\n",
            "   --- ------------------------------------ 1.0/12.6 MB 4.9 MB/s eta 0:00:03\n",
            "   ------ --------------------------------- 2.1/12.6 MB 3.8 MB/s eta 0:00:03\n",
            "   ------ --------------------------------- 2.1/12.6 MB 3.8 MB/s eta 0:00:03\n",
            "   --------- ------------------------------ 3.1/12.6 MB 3.4 MB/s eta 0:00:03\n",
            "   ------------- -------------------------- 4.2/12.6 MB 3.5 MB/s eta 0:00:03\n",
            "   -------------- ------------------------- 4.5/12.6 MB 3.1 MB/s eta 0:00:03\n",
            "   ---------------- ----------------------- 5.2/12.6 MB 3.5 MB/s eta 0:00:03\n",
            "   ------------------- -------------------- 6.3/12.6 MB 3.4 MB/s eta 0:00:02\n",
            "   ----------------------- ---------------- 7.3/12.6 MB 3.6 MB/s eta 0:00:02\n",
            "   ------------------------- -------------- 8.1/12.6 MB 3.6 MB/s eta 0:00:02\n",
            "   -------------------------- ------------- 8.4/12.6 MB 3.7 MB/s eta 0:00:02\n",
            "   ----------------------------- ---------- 9.4/12.6 MB 3.6 MB/s eta 0:00:01\n",
            "   --------------------------------- ------ 10.5/12.6 MB 3.6 MB/s eta 0:00:01\n",
            "   --------------------------------- ------ 10.5/12.6 MB 3.6 MB/s eta 0:00:01\n",
            "   ------------------------------------ --- 11.5/12.6 MB 3.6 MB/s eta 0:00:01\n",
            "   ------------------------------------ --- 11.5/12.6 MB 3.6 MB/s eta 0:00:01\n",
            "   ---------------------------------------  12.6/12.6 MB 3.4 MB/s eta 0:00:01\n",
            "   ---------------------------------------  12.6/12.6 MB 3.4 MB/s eta 0:00:01\n",
            "   ---------------------------------------- 12.6/12.6 MB 3.0 MB/s eta 0:00:00\n",
            "Installing collected packages: numpy\n",
            "  Attempting uninstall: numpy\n",
            "    Found existing installation: numpy 2.3.0\n",
            "    Uninstalling numpy-2.3.0:\n",
            "      Successfully uninstalled numpy-2.3.0\n",
            "Successfully installed numpy-2.2.0\n",
            "Requirement already satisfied: pandas==2.2.3 in c:\\users\\qy\\miniconda3\\lib\\site-packages (2.2.3)\n",
            "Requirement already satisfied: numpy>=1.26.0 in c:\\users\\qy\\miniconda3\\lib\\site-packages (from pandas==2.2.3) (2.2.0)\n",
            "Requirement already satisfied: python-dateutil>=2.8.2 in c:\\users\\qy\\miniconda3\\lib\\site-packages (from pandas==2.2.3) (2.9.0.post0)\n",
            "Requirement already satisfied: pytz>=2020.1 in c:\\users\\qy\\miniconda3\\lib\\site-packages (from pandas==2.2.3) (2024.1)\n",
            "Requirement already satisfied: tzdata>=2022.7 in c:\\users\\qy\\miniconda3\\lib\\site-packages (from pandas==2.2.3) (2025.2)\n",
            "Requirement already satisfied: six>=1.5 in c:\\users\\qy\\miniconda3\\lib\\site-packages (from python-dateutil>=2.8.2->pandas==2.2.3) (1.17.0)\n",
            "Collecting scikit-learn==1.6.0\n",
            "  Downloading scikit_learn-1.6.0-cp313-cp313-win_amd64.whl.metadata (15 kB)\n",
            "Requirement already satisfied: numpy>=1.19.5 in c:\\users\\qy\\miniconda3\\lib\\site-packages (from scikit-learn==1.6.0) (2.2.0)\n",
            "Requirement already satisfied: scipy>=1.6.0 in c:\\users\\qy\\miniconda3\\lib\\site-packages (from scikit-learn==1.6.0) (1.15.3)\n",
            "Requirement already satisfied: joblib>=1.2.0 in c:\\users\\qy\\miniconda3\\lib\\site-packages (from scikit-learn==1.6.0) (1.4.2)\n",
            "Requirement already satisfied: threadpoolctl>=3.1.0 in c:\\users\\qy\\miniconda3\\lib\\site-packages (from scikit-learn==1.6.0) (3.5.0)\n",
            "Downloading scikit_learn-1.6.0-cp313-cp313-win_amd64.whl (11.1 MB)\n",
            "   ---------------------------------------- 0.0/11.1 MB ? eta -:--:--\n",
            "   - -------------------------------------- 0.5/11.1 MB 3.7 MB/s eta 0:00:03\n",
            "   --- ------------------------------------ 1.0/11.1 MB 4.0 MB/s eta 0:00:03\n",
            "   ------ --------------------------------- 1.8/11.1 MB 3.1 MB/s eta 0:00:04\n",
            "   ------- -------------------------------- 2.1/11.1 MB 3.3 MB/s eta 0:00:03\n",
            "   ------- -------------------------------- 2.1/11.1 MB 3.3 MB/s eta 0:00:03\n",
            "   ----------- ---------------------------- 3.1/11.1 MB 2.6 MB/s eta 0:00:03\n",
            "   ----------- ---------------------------- 3.1/11.1 MB 2.6 MB/s eta 0:00:03\n",
            "   --------------- ------------------------ 4.2/11.1 MB 2.5 MB/s eta 0:00:03\n",
            "   ---------------- ----------------------- 4.5/11.1 MB 2.4 MB/s eta 0:00:03\n",
            "   ------------------ --------------------- 5.2/11.1 MB 2.7 MB/s eta 0:00:03\n",
            "   ---------------------- ----------------- 6.3/11.1 MB 2.8 MB/s eta 0:00:02\n",
            "   ---------------------- ----------------- 6.3/11.1 MB 2.8 MB/s eta 0:00:02\n",
            "   ---------------------- ----------------- 6.3/11.1 MB 2.8 MB/s eta 0:00:02\n",
            "   ---------------------- ----------------- 6.3/11.1 MB 2.8 MB/s eta 0:00:02\n",
            "   ---------------------- ----------------- 6.3/11.1 MB 2.8 MB/s eta 0:00:02\n",
            "   -------------------------- ------------- 7.3/11.1 MB 2.2 MB/s eta 0:00:02\n",
            "   --------------------------- ------------ 7.6/11.1 MB 2.1 MB/s eta 0:00:02\n",
            "   ------------------------------ --------- 8.4/11.1 MB 2.3 MB/s eta 0:00:02\n",
            "   ---------------------------------- ----- 9.4/11.1 MB 2.5 MB/s eta 0:00:01\n",
            "   ---------------------------------- ----- 9.4/11.1 MB 2.5 MB/s eta 0:00:01\n",
            "   ---------------------------------- ----- 9.4/11.1 MB 2.5 MB/s eta 0:00:01\n",
            "   ---------------------------------- ----- 9.4/11.1 MB 2.5 MB/s eta 0:00:01\n",
            "   ---------------------------------- ----- 9.4/11.1 MB 2.5 MB/s eta 0:00:01\n",
            "   -------------------------------------- - 10.7/11.1 MB 2.1 MB/s eta 0:00:01\n",
            "   ---------------------------------------- 11.1/11.1 MB 2.2 MB/s eta 0:00:00\n",
            "Installing collected packages: scikit-learn\n",
            "  Attempting uninstall: scikit-learn\n",
            "    Found existing installation: scikit-learn 1.6.1\n",
            "    Uninstalling scikit-learn-1.6.1:\n",
            "      Successfully uninstalled scikit-learn-1.6.1\n",
            "Successfully installed scikit-learn-1.6.0\n",
            "Collecting matplotlib==3.9.3\n",
            "  Downloading matplotlib-3.9.3-cp313-cp313-win_amd64.whl.metadata (11 kB)\n",
            "Requirement already satisfied: contourpy>=1.0.1 in c:\\users\\qy\\miniconda3\\lib\\site-packages (from matplotlib==3.9.3) (1.3.1)\n",
            "Requirement already satisfied: cycler>=0.10 in c:\\users\\qy\\miniconda3\\lib\\site-packages (from matplotlib==3.9.3) (0.11.0)\n",
            "Requirement already satisfied: fonttools>=4.22.0 in c:\\users\\qy\\miniconda3\\lib\\site-packages (from matplotlib==3.9.3) (4.55.3)\n",
            "Requirement already satisfied: kiwisolver>=1.3.1 in c:\\users\\qy\\miniconda3\\lib\\site-packages (from matplotlib==3.9.3) (1.4.8)\n",
            "Requirement already satisfied: numpy>=1.23 in c:\\users\\qy\\miniconda3\\lib\\site-packages (from matplotlib==3.9.3) (2.2.0)\n",
            "Requirement already satisfied: packaging>=20.0 in c:\\users\\qy\\miniconda3\\lib\\site-packages (from matplotlib==3.9.3) (24.2)\n",
            "Requirement already satisfied: pillow>=8 in c:\\users\\qy\\miniconda3\\lib\\site-packages (from matplotlib==3.9.3) (11.1.0)\n",
            "Requirement already satisfied: pyparsing>=2.3.1 in c:\\users\\qy\\miniconda3\\lib\\site-packages (from matplotlib==3.9.3) (3.2.0)\n",
            "Requirement already satisfied: python-dateutil>=2.7 in c:\\users\\qy\\miniconda3\\lib\\site-packages (from matplotlib==3.9.3) (2.9.0.post0)\n",
            "Requirement already satisfied: six>=1.5 in c:\\users\\qy\\miniconda3\\lib\\site-packages (from python-dateutil>=2.7->matplotlib==3.9.3) (1.17.0)\n",
            "Downloading matplotlib-3.9.3-cp313-cp313-win_amd64.whl (7.8 MB)\n",
            "   ---------------------------------------- 0.0/7.8 MB ? eta -:--:--\n",
            "   -- ------------------------------------- 0.5/7.8 MB 4.6 MB/s eta 0:00:02\n",
            "   ----- ---------------------------------- 1.0/7.8 MB 4.4 MB/s eta 0:00:02\n",
            "   --------- ------------------------------ 1.8/7.8 MB 3.2 MB/s eta 0:00:02\n",
            "   ---------- ----------------------------- 2.1/7.8 MB 3.3 MB/s eta 0:00:02\n",
            "   ---------------- ----------------------- 3.1/7.8 MB 3.2 MB/s eta 0:00:02\n",
            "   ------------------ --------------------- 3.7/7.8 MB 3.0 MB/s eta 0:00:02\n",
            "   --------------------- ------------------ 4.2/7.8 MB 3.3 MB/s eta 0:00:02\n",
            "   -------------------------- ------------- 5.2/7.8 MB 3.4 MB/s eta 0:00:01\n",
            "   -------------------------- ------------- 5.2/7.8 MB 3.4 MB/s eta 0:00:01\n",
            "   ------------------------------ --------- 6.0/7.8 MB 2.9 MB/s eta 0:00:01\n",
            "   ------------------------------------- -- 7.3/7.8 MB 3.3 MB/s eta 0:00:01\n",
            "   ---------------------------------------- 7.8/7.8 MB 3.2 MB/s eta 0:00:00\n",
            "Installing collected packages: matplotlib\n",
            "  Attempting uninstall: matplotlib\n",
            "    Found existing installation: matplotlib 3.10.0\n",
            "    Uninstalling matplotlib-3.10.0:\n",
            "      Successfully uninstalled matplotlib-3.10.0\n",
            "Successfully installed matplotlib-3.10.3\n"
          ]
        }
      ],
      "source": [
        "!pip install numpy==2.2.0\n",
        "!pip install pandas==2.2.3\n",
        "!pip install scikit-learn==1.6.0\n",
        "!pip install matplotlib==3.9.3"
      ]
    },
    {
      "cell_type": "markdown",
      "source": [
        "# Import Libraries"
      ],
      "metadata": {
        "id": "YFk-QJWFqtXM"
      }
    },
    {
      "cell_type": "code",
      "source": [
        "import numpy as np\n",
        "import matplotlib.pyplot as plt\n",
        "import pandas as pd\n",
        "%matplotlib inline"
      ],
      "metadata": {
        "id": "C68oCW-lqqa6"
      },
      "execution_count": 12,
      "outputs": []
    },
    {
      "cell_type": "markdown",
      "source": [
        "#Load Data"
      ],
      "metadata": {
        "id": "Qz9fj_rTq2w6"
      }
    },
    {
      "cell_type": "code",
      "source": [
        "url = \"https://cf-courses-data.s3.us.cloud-object-storage.appdomain.cloud/IBMDeveloperSkillsNetwork-ML0101EN-SkillsNetwork/labs/Module%202/data/FuelConsumptionCo2.csv\"\n",
        "df=pd.read_csv(url)"
      ],
      "metadata": {
        "id": "c5YziZf6q1AP"
      },
      "execution_count": 3,
      "outputs": []
    },
    {
      "cell_type": "code",
      "source": [
        "df.sample(5)"
      ],
      "metadata": {
        "colab": {
          "base_uri": "https://localhost:8080/",
          "height": 313
        },
        "id": "YNlD_PJkq_sS",
        "outputId": "4e2e2a90-2e0f-4019-e24c-379b80b8c03e"
      },
      "execution_count": 4,
      "outputs": [
        {
          "output_type": "execute_result",
          "data": {
            "text/plain": [
              "     MODELYEAR       MAKE                     MODEL VEHICLECLASS  ENGINESIZE  \\\n",
              "848       2014     NISSAN                    MAXIMA     MID-SIZE         3.5   \n",
              "233       2014  CHEVROLET                    MALIBU     MID-SIZE         2.0   \n",
              "874       2014    PORSCHE  911 CARRERA 4S CABRIOLET  MINICOMPACT         3.8   \n",
              "957       2014     SUBARU                LEGACY AWD     MID-SIZE         3.6   \n",
              "20        2014       AUDI                A4 QUATTRO      COMPACT         2.0   \n",
              "\n",
              "     CYLINDERS TRANSMISSION FUELTYPE  FUELCONSUMPTION_CITY  \\\n",
              "848          6           AV        Z                  12.3   \n",
              "233          4          AS6        Z                  11.5   \n",
              "874          6           M7        Z                  12.9   \n",
              "957          6          AS5        X                  13.3   \n",
              "20           4          AS8        Z                  11.5   \n",
              "\n",
              "     FUELCONSUMPTION_HWY  FUELCONSUMPTION_COMB  FUELCONSUMPTION_COMB_MPG  \\\n",
              "848                  9.1                  10.9                        26   \n",
              "233                  7.9                   9.9                        29   \n",
              "874                  9.1                  11.2                        25   \n",
              "957                  9.5                  11.6                        24   \n",
              "20                   8.1                  10.0                        28   \n",
              "\n",
              "     CO2EMISSIONS  \n",
              "848           251  \n",
              "233           228  \n",
              "874           258  \n",
              "957           267  \n",
              "20            230  "
            ],
            "text/html": [
              "<div>\n",
              "<style scoped>\n",
              "    .dataframe tbody tr th:only-of-type {\n",
              "        vertical-align: middle;\n",
              "    }\n",
              "\n",
              "    .dataframe tbody tr th {\n",
              "        vertical-align: top;\n",
              "    }\n",
              "\n",
              "    .dataframe thead th {\n",
              "        text-align: right;\n",
              "    }\n",
              "</style>\n",
              "<table border=\"1\" class=\"dataframe\">\n",
              "  <thead>\n",
              "    <tr style=\"text-align: right;\">\n",
              "      <th></th>\n",
              "      <th>MODELYEAR</th>\n",
              "      <th>MAKE</th>\n",
              "      <th>MODEL</th>\n",
              "      <th>VEHICLECLASS</th>\n",
              "      <th>ENGINESIZE</th>\n",
              "      <th>CYLINDERS</th>\n",
              "      <th>TRANSMISSION</th>\n",
              "      <th>FUELTYPE</th>\n",
              "      <th>FUELCONSUMPTION_CITY</th>\n",
              "      <th>FUELCONSUMPTION_HWY</th>\n",
              "      <th>FUELCONSUMPTION_COMB</th>\n",
              "      <th>FUELCONSUMPTION_COMB_MPG</th>\n",
              "      <th>CO2EMISSIONS</th>\n",
              "    </tr>\n",
              "  </thead>\n",
              "  <tbody>\n",
              "    <tr>\n",
              "      <th>848</th>\n",
              "      <td>2014</td>\n",
              "      <td>NISSAN</td>\n",
              "      <td>MAXIMA</td>\n",
              "      <td>MID-SIZE</td>\n",
              "      <td>3.5</td>\n",
              "      <td>6</td>\n",
              "      <td>AV</td>\n",
              "      <td>Z</td>\n",
              "      <td>12.3</td>\n",
              "      <td>9.1</td>\n",
              "      <td>10.9</td>\n",
              "      <td>26</td>\n",
              "      <td>251</td>\n",
              "    </tr>\n",
              "    <tr>\n",
              "      <th>233</th>\n",
              "      <td>2014</td>\n",
              "      <td>CHEVROLET</td>\n",
              "      <td>MALIBU</td>\n",
              "      <td>MID-SIZE</td>\n",
              "      <td>2.0</td>\n",
              "      <td>4</td>\n",
              "      <td>AS6</td>\n",
              "      <td>Z</td>\n",
              "      <td>11.5</td>\n",
              "      <td>7.9</td>\n",
              "      <td>9.9</td>\n",
              "      <td>29</td>\n",
              "      <td>228</td>\n",
              "    </tr>\n",
              "    <tr>\n",
              "      <th>874</th>\n",
              "      <td>2014</td>\n",
              "      <td>PORSCHE</td>\n",
              "      <td>911 CARRERA 4S CABRIOLET</td>\n",
              "      <td>MINICOMPACT</td>\n",
              "      <td>3.8</td>\n",
              "      <td>6</td>\n",
              "      <td>M7</td>\n",
              "      <td>Z</td>\n",
              "      <td>12.9</td>\n",
              "      <td>9.1</td>\n",
              "      <td>11.2</td>\n",
              "      <td>25</td>\n",
              "      <td>258</td>\n",
              "    </tr>\n",
              "    <tr>\n",
              "      <th>957</th>\n",
              "      <td>2014</td>\n",
              "      <td>SUBARU</td>\n",
              "      <td>LEGACY AWD</td>\n",
              "      <td>MID-SIZE</td>\n",
              "      <td>3.6</td>\n",
              "      <td>6</td>\n",
              "      <td>AS5</td>\n",
              "      <td>X</td>\n",
              "      <td>13.3</td>\n",
              "      <td>9.5</td>\n",
              "      <td>11.6</td>\n",
              "      <td>24</td>\n",
              "      <td>267</td>\n",
              "    </tr>\n",
              "    <tr>\n",
              "      <th>20</th>\n",
              "      <td>2014</td>\n",
              "      <td>AUDI</td>\n",
              "      <td>A4 QUATTRO</td>\n",
              "      <td>COMPACT</td>\n",
              "      <td>2.0</td>\n",
              "      <td>4</td>\n",
              "      <td>AS8</td>\n",
              "      <td>Z</td>\n",
              "      <td>11.5</td>\n",
              "      <td>8.1</td>\n",
              "      <td>10.0</td>\n",
              "      <td>28</td>\n",
              "      <td>230</td>\n",
              "    </tr>\n",
              "  </tbody>\n",
              "</table>\n",
              "</div>"
            ]
          },
          "metadata": {},
          "execution_count": 4
        }
      ]
    },
    {
      "cell_type": "markdown",
      "source": [
        "#Explore Data"
      ],
      "metadata": {
        "id": "0b1DROvlrEhF"
      }
    },
    {
      "cell_type": "code",
      "source": [
        "df.describe()"
      ],
      "metadata": {
        "colab": {
          "base_uri": "https://localhost:8080/",
          "height": 320
        },
        "id": "BeVQgpserB-Y",
        "outputId": "4dfbec19-b8fc-4254-c3e9-c8442f227200"
      },
      "execution_count": 5,
      "outputs": [
        {
          "output_type": "execute_result",
          "data": {
            "text/plain": [
              "       MODELYEAR   ENGINESIZE    CYLINDERS  FUELCONSUMPTION_CITY  \\\n",
              "count     1067.0  1067.000000  1067.000000           1067.000000   \n",
              "mean      2014.0     3.346298     5.794752             13.296532   \n",
              "std          0.0     1.415895     1.797447              4.101253   \n",
              "min       2014.0     1.000000     3.000000              4.600000   \n",
              "25%       2014.0     2.000000     4.000000             10.250000   \n",
              "50%       2014.0     3.400000     6.000000             12.600000   \n",
              "75%       2014.0     4.300000     8.000000             15.550000   \n",
              "max       2014.0     8.400000    12.000000             30.200000   \n",
              "\n",
              "       FUELCONSUMPTION_HWY  FUELCONSUMPTION_COMB  FUELCONSUMPTION_COMB_MPG  \\\n",
              "count          1067.000000           1067.000000               1067.000000   \n",
              "mean              9.474602             11.580881                 26.441425   \n",
              "std               2.794510              3.485595                  7.468702   \n",
              "min               4.900000              4.700000                 11.000000   \n",
              "25%               7.500000              9.000000                 21.000000   \n",
              "50%               8.800000             10.900000                 26.000000   \n",
              "75%              10.850000             13.350000                 31.000000   \n",
              "max              20.500000             25.800000                 60.000000   \n",
              "\n",
              "       CO2EMISSIONS  \n",
              "count   1067.000000  \n",
              "mean     256.228679  \n",
              "std       63.372304  \n",
              "min      108.000000  \n",
              "25%      207.000000  \n",
              "50%      251.000000  \n",
              "75%      294.000000  \n",
              "max      488.000000  "
            ],
            "text/html": [
              "<div>\n",
              "<style scoped>\n",
              "    .dataframe tbody tr th:only-of-type {\n",
              "        vertical-align: middle;\n",
              "    }\n",
              "\n",
              "    .dataframe tbody tr th {\n",
              "        vertical-align: top;\n",
              "    }\n",
              "\n",
              "    .dataframe thead th {\n",
              "        text-align: right;\n",
              "    }\n",
              "</style>\n",
              "<table border=\"1\" class=\"dataframe\">\n",
              "  <thead>\n",
              "    <tr style=\"text-align: right;\">\n",
              "      <th></th>\n",
              "      <th>MODELYEAR</th>\n",
              "      <th>ENGINESIZE</th>\n",
              "      <th>CYLINDERS</th>\n",
              "      <th>FUELCONSUMPTION_CITY</th>\n",
              "      <th>FUELCONSUMPTION_HWY</th>\n",
              "      <th>FUELCONSUMPTION_COMB</th>\n",
              "      <th>FUELCONSUMPTION_COMB_MPG</th>\n",
              "      <th>CO2EMISSIONS</th>\n",
              "    </tr>\n",
              "  </thead>\n",
              "  <tbody>\n",
              "    <tr>\n",
              "      <th>count</th>\n",
              "      <td>1067.0</td>\n",
              "      <td>1067.000000</td>\n",
              "      <td>1067.000000</td>\n",
              "      <td>1067.000000</td>\n",
              "      <td>1067.000000</td>\n",
              "      <td>1067.000000</td>\n",
              "      <td>1067.000000</td>\n",
              "      <td>1067.000000</td>\n",
              "    </tr>\n",
              "    <tr>\n",
              "      <th>mean</th>\n",
              "      <td>2014.0</td>\n",
              "      <td>3.346298</td>\n",
              "      <td>5.794752</td>\n",
              "      <td>13.296532</td>\n",
              "      <td>9.474602</td>\n",
              "      <td>11.580881</td>\n",
              "      <td>26.441425</td>\n",
              "      <td>256.228679</td>\n",
              "    </tr>\n",
              "    <tr>\n",
              "      <th>std</th>\n",
              "      <td>0.0</td>\n",
              "      <td>1.415895</td>\n",
              "      <td>1.797447</td>\n",
              "      <td>4.101253</td>\n",
              "      <td>2.794510</td>\n",
              "      <td>3.485595</td>\n",
              "      <td>7.468702</td>\n",
              "      <td>63.372304</td>\n",
              "    </tr>\n",
              "    <tr>\n",
              "      <th>min</th>\n",
              "      <td>2014.0</td>\n",
              "      <td>1.000000</td>\n",
              "      <td>3.000000</td>\n",
              "      <td>4.600000</td>\n",
              "      <td>4.900000</td>\n",
              "      <td>4.700000</td>\n",
              "      <td>11.000000</td>\n",
              "      <td>108.000000</td>\n",
              "    </tr>\n",
              "    <tr>\n",
              "      <th>25%</th>\n",
              "      <td>2014.0</td>\n",
              "      <td>2.000000</td>\n",
              "      <td>4.000000</td>\n",
              "      <td>10.250000</td>\n",
              "      <td>7.500000</td>\n",
              "      <td>9.000000</td>\n",
              "      <td>21.000000</td>\n",
              "      <td>207.000000</td>\n",
              "    </tr>\n",
              "    <tr>\n",
              "      <th>50%</th>\n",
              "      <td>2014.0</td>\n",
              "      <td>3.400000</td>\n",
              "      <td>6.000000</td>\n",
              "      <td>12.600000</td>\n",
              "      <td>8.800000</td>\n",
              "      <td>10.900000</td>\n",
              "      <td>26.000000</td>\n",
              "      <td>251.000000</td>\n",
              "    </tr>\n",
              "    <tr>\n",
              "      <th>75%</th>\n",
              "      <td>2014.0</td>\n",
              "      <td>4.300000</td>\n",
              "      <td>8.000000</td>\n",
              "      <td>15.550000</td>\n",
              "      <td>10.850000</td>\n",
              "      <td>13.350000</td>\n",
              "      <td>31.000000</td>\n",
              "      <td>294.000000</td>\n",
              "    </tr>\n",
              "    <tr>\n",
              "      <th>max</th>\n",
              "      <td>2014.0</td>\n",
              "      <td>8.400000</td>\n",
              "      <td>12.000000</td>\n",
              "      <td>30.200000</td>\n",
              "      <td>20.500000</td>\n",
              "      <td>25.800000</td>\n",
              "      <td>60.000000</td>\n",
              "      <td>488.000000</td>\n",
              "    </tr>\n",
              "  </tbody>\n",
              "</table>\n",
              "</div>"
            ]
          },
          "metadata": {},
          "execution_count": 5
        }
      ]
    },
    {
      "cell_type": "markdown",
      "source": [
        "MODELYEAR has 0 standard deviation, no interesting information content.\n"
      ],
      "metadata": {
        "id": "3h-B1heprgoD"
      }
    },
    {
      "cell_type": "code",
      "source": [
        "df.columns"
      ],
      "metadata": {
        "colab": {
          "base_uri": "https://localhost:8080/"
        },
        "id": "DZzjb9hyreCR",
        "outputId": "ecde5450-836c-4b88-a9b3-21a7b5eaf106"
      },
      "execution_count": 6,
      "outputs": [
        {
          "output_type": "execute_result",
          "data": {
            "text/plain": [
              "Index(['MODELYEAR', 'MAKE', 'MODEL', 'VEHICLECLASS', 'ENGINESIZE', 'CYLINDERS',\n",
              "       'TRANSMISSION', 'FUELTYPE', 'FUELCONSUMPTION_CITY',\n",
              "       'FUELCONSUMPTION_HWY', 'FUELCONSUMPTION_COMB',\n",
              "       'FUELCONSUMPTION_COMB_MPG', 'CO2EMISSIONS'],\n",
              "      dtype='object')"
            ]
          },
          "metadata": {},
          "execution_count": 6
        }
      ]
    },
    {
      "cell_type": "markdown",
      "source": [
        "# Feature Selection"
      ],
      "metadata": {
        "id": "ZnTLYbXQrSjZ"
      }
    },
    {
      "cell_type": "markdown",
      "source": [
        "Select a few features that might be indicative of CO2 emission to explore more."
      ],
      "metadata": {
        "id": "sfJVfLNwr1NT"
      }
    },
    {
      "cell_type": "code",
      "source": [
        "cdf = df[['ENGINESIZE', 'CYLINDERS','FUELCONSUMPTION_COMB','CO2EMISSIONS']]\n",
        "cdf.sample(5)"
      ],
      "metadata": {
        "colab": {
          "base_uri": "https://localhost:8080/",
          "height": 206
        },
        "id": "8tGmMclUrP1W",
        "outputId": "d05c8752-8f78-4788-88d1-e3244debea39"
      },
      "execution_count": 9,
      "outputs": [
        {
          "output_type": "execute_result",
          "data": {
            "text/plain": [
              "     ENGINESIZE  CYLINDERS  FUELCONSUMPTION_COMB  CO2EMISSIONS\n",
              "21          2.0          4                   9.3           214\n",
              "262         5.3          8                  18.4           294\n",
              "501         3.5          6                  13.4           308\n",
              "689         3.0          6                  12.7           292\n",
              "921         3.6          6                  15.9           254"
            ],
            "text/html": [
              "<div>\n",
              "<style scoped>\n",
              "    .dataframe tbody tr th:only-of-type {\n",
              "        vertical-align: middle;\n",
              "    }\n",
              "\n",
              "    .dataframe tbody tr th {\n",
              "        vertical-align: top;\n",
              "    }\n",
              "\n",
              "    .dataframe thead th {\n",
              "        text-align: right;\n",
              "    }\n",
              "</style>\n",
              "<table border=\"1\" class=\"dataframe\">\n",
              "  <thead>\n",
              "    <tr style=\"text-align: right;\">\n",
              "      <th></th>\n",
              "      <th>ENGINESIZE</th>\n",
              "      <th>CYLINDERS</th>\n",
              "      <th>FUELCONSUMPTION_COMB</th>\n",
              "      <th>CO2EMISSIONS</th>\n",
              "    </tr>\n",
              "  </thead>\n",
              "  <tbody>\n",
              "    <tr>\n",
              "      <th>21</th>\n",
              "      <td>2.0</td>\n",
              "      <td>4</td>\n",
              "      <td>9.3</td>\n",
              "      <td>214</td>\n",
              "    </tr>\n",
              "    <tr>\n",
              "      <th>262</th>\n",
              "      <td>5.3</td>\n",
              "      <td>8</td>\n",
              "      <td>18.4</td>\n",
              "      <td>294</td>\n",
              "    </tr>\n",
              "    <tr>\n",
              "      <th>501</th>\n",
              "      <td>3.5</td>\n",
              "      <td>6</td>\n",
              "      <td>13.4</td>\n",
              "      <td>308</td>\n",
              "    </tr>\n",
              "    <tr>\n",
              "      <th>689</th>\n",
              "      <td>3.0</td>\n",
              "      <td>6</td>\n",
              "      <td>12.7</td>\n",
              "      <td>292</td>\n",
              "    </tr>\n",
              "    <tr>\n",
              "      <th>921</th>\n",
              "      <td>3.6</td>\n",
              "      <td>6</td>\n",
              "      <td>15.9</td>\n",
              "      <td>254</td>\n",
              "    </tr>\n",
              "  </tbody>\n",
              "</table>\n",
              "</div>"
            ]
          },
          "metadata": {},
          "execution_count": 9
        }
      ]
    },
    {
      "cell_type": "markdown",
      "source": [
        "#Feature Visualization"
      ],
      "metadata": {
        "id": "cLC-wBh0sFa2"
      }
    },
    {
      "cell_type": "code",
      "source": [
        "viz = cdf[['ENGINESIZE','CYLINDERS','FUELCONSUMPTION_COMB','CO2EMISSIONS']]\n",
        "viz.hist()\n",
        "plt.show()"
      ],
      "metadata": {
        "colab": {
          "base_uri": "https://localhost:8080/",
          "height": 452
        },
        "id": "2OK9qU32sBvo",
        "outputId": "17019c8f-ec8c-400e-e96b-20e3068a48e3"
      },
      "execution_count": 14,
      "outputs": [
        {
          "output_type": "display_data",
          "data": {
            "text/plain": [
              "<Figure size 640x480 with 4 Axes>"
            ],
            "image/png": "[encoded data removed]"
          },
          "metadata": {}
        }
      ]
    },
    {
      "cell_type": "markdown",
      "source": [
        "Most engines have 4,6, or 8 cylinders, and engine sizes between 2-4 liters."
      ],
      "metadata": {
        "id": "J_u_NV1SsdD7"
      }
    },
    {
      "cell_type": "markdown",
      "source": [
        "#Scatter plot"
      ],
      "metadata": {
        "id": "QCUK499DtODv"
      }
    },
    {
      "cell_type": "code",
      "source": [
        "plt.scatter(cdf.FUELCONSUMPTION_COMB, cdf.CO2EMISSIONS,  color='blue')\n",
        "plt.xlabel(\"FUELCONSUMPTION_COMB\")\n",
        "plt.ylabel(\"Emission\")\n",
        "plt.show()"
      ],
      "metadata": {
        "colab": {
          "base_uri": "https://localhost:8080/",
          "height": 449
        },
        "id": "IMjrM67fsRJ_",
        "outputId": "671a34ab-7b5f-433a-c50f-0d244fdb33f2"
      },
      "execution_count": 15,
      "outputs": [
        {
          "output_type": "display_data",
          "data": {
            "text/plain": [
              "<Figure size 640x480 with 1 Axes>"
            ],
            "image/png": "[encoded data removed]"
          },
          "metadata": {}
        }
      ]
    },
    {
      "cell_type": "markdown",
      "source": [
        "Three car groups each have a strong linear relationship between their combined fuel consumption and their CO2 emissions. Their intercepts are similar."
      ],
      "metadata": {
        "id": "HODOSAI2tEJx"
      }
    },
    {
      "cell_type": "code",
      "source": [
        "plt.scatter(cdf.ENGINESIZE, cdf.CO2EMISSIONS,  color='blue')\n",
        "plt.xlabel(\"Engine size\")\n",
        "plt.ylabel(\"Emission\")\n",
        "plt.xlim(0,27) #same x-axis limit as FUELCONSUMPTION_COMB\n",
        "plt.show()"
      ],
      "metadata": {
        "colab": {
          "base_uri": "https://localhost:8080/",
          "height": 449
        },
        "id": "GqBH5vHDs9Nl",
        "outputId": "baeb2da3-98d5-42ec-ed08-36b0dde261fe"
      },
      "execution_count": 17,
      "outputs": [
        {
          "output_type": "display_data",
          "data": {
            "text/plain": [
              "<Figure size 640x480 with 1 Axes>"
            ],
            "image/png": "[encoded data removed]"
          },
          "metadata": {}
        }
      ]
    },
    {
      "cell_type": "markdown",
      "source": [
        "Relationship between engine size and CO2 emission is quite linear, but correlation weaker as compared to FUELCONSUMPTION_COMB scatter plot."
      ],
      "metadata": {
        "id": "3_oVvz6LuUt7"
      }
    },
    {
      "cell_type": "code",
      "source": [
        "plt.scatter(cdf.CYLINDERS, cdf.CO2EMISSIONS,  color='blue')\n",
        "plt.xlabel(\"Cylinders\")\n",
        "plt.ylabel(\"Emission\")\n",
        "plt.xlim(0,27) #same x-axis limit as FUELCONSUMPTION_COMB\n",
        "plt.show()"
      ],
      "metadata": {
        "colab": {
          "base_uri": "https://localhost:8080/",
          "height": 449
        },
        "id": "729M68M6tUZl",
        "outputId": "083907d7-5eb1-433a-ce1e-a10d6e72a268"
      },
      "execution_count": 20,
      "outputs": [
        {
          "output_type": "display_data",
          "data": {
            "text/plain": [
              "<Figure size 640x480 with 1 Axes>"
            ],
            "image/png": "[encoded data removed]"
          },
          "metadata": {}
        }
      ]
    },
    {
      "cell_type": "markdown",
      "source": [
        "#Extract input feature and labels from dataset"
      ],
      "metadata": {
        "id": "Ml028GMKu2s8"
      }
    },
    {
      "cell_type": "markdown",
      "source": [
        "##ENGINESIZE"
      ],
      "metadata": {
        "id": "_fieYGnvvFtY"
      }
    },
    {
      "cell_type": "code",
      "source": [
        "X=cdf.ENGINESIZE.to_numpy()\n",
        "y=cdf.CO2EMISSIONS.to_numpy()"
      ],
      "metadata": {
        "id": "I0ANqPCzuqEc"
      },
      "execution_count": 21,
      "outputs": []
    },
    {
      "cell_type": "code",
      "source": [
        "from sklearn.model_selection import train_test_split\n",
        "X_train, X_test, y_train, y_test = train_test_split(X, y, test_size=0.2, random_state=42)"
      ],
      "metadata": {
        "id": "Gzux6erjvT6i"
      },
      "execution_count": 22,
      "outputs": []
    },
    {
      "cell_type": "code",
      "source": [
        "type(X_train), type(X_test), type(y_train), type(y_test)"
      ],
      "metadata": {
        "colab": {
          "base_uri": "https://localhost:8080/"
        },
        "id": "_XO2YpDqvX-N",
        "outputId": "c4e2c5ec-23aa-4ad4-b0b6-57ade14c64f8"
      },
      "execution_count": 23,
      "outputs": [
        {
          "output_type": "execute_result",
          "data": {
            "text/plain": [
              "(numpy.ndarray, numpy.ndarray, numpy.ndarray, numpy.ndarray)"
            ]
          },
          "metadata": {},
          "execution_count": 23
        }
      ]
    },
    {
      "cell_type": "code",
      "source": [
        "np.shape(X_train), np.shape(X_test), np.shape(y_train), np.shape(y_test)"
      ],
      "metadata": {
        "colab": {
          "base_uri": "https://localhost:8080/"
        },
        "id": "FcgqQDhVvfrG",
        "outputId": "4d007308-a42e-4597-c9e2-ed1a2b4a828d"
      },
      "execution_count": 24,
      "outputs": [
        {
          "output_type": "execute_result",
          "data": {
            "text/plain": [
              "((853,), (214,), (853,), (214,))"
            ]
          },
          "metadata": {},
          "execution_count": 24
        }
      ]
    },
    {
      "cell_type": "markdown",
      "source": [
        "##Build Simple Linear Regression Model (on Train data)"
      ],
      "metadata": {
        "id": "fR8oZljkvnrt"
      }
    },
    {
      "cell_type": "code",
      "source": [
        "from sklearn import linear_model\n",
        "\n",
        "#create model object\n",
        "regressor = linear_model.LinearRegression()\n",
        "\n",
        "#train model on training data\n",
        "regressor.fit(X_train.reshape(-1,1), y_train)\n",
        "\n",
        "#print coefficients\n",
        "print('Coefficients: ', regressor.coef_[0]) #simple linear regression only one coefficient\n",
        "print('Intercept: ',regressor.intercept_)"
      ],
      "metadata": {
        "colab": {
          "base_uri": "https://localhost:8080/"
        },
        "id": "FkJiqAcpvjC6",
        "outputId": "796dfe99-3be5-4bd2-fd01-f4e48e3fbd36"
      },
      "execution_count": 31,
      "outputs": [
        {
          "output_type": "stream",
          "name": "stdout",
          "text": [
            "Coefficients:  38.99297872443403\n",
            "Intercept:  126.28970217408735\n"
          ]
        }
      ]
    },
    {
      "cell_type": "markdown",
      "source": [
        "##Visualization"
      ],
      "metadata": {
        "id": "d3_7f1U9wkly"
      }
    },
    {
      "cell_type": "markdown",
      "source": [
        "y = coefficient*x + intercept"
      ],
      "metadata": {
        "id": "LZ3f6cwTyEpb"
      }
    },
    {
      "cell_type": "code",
      "source": [
        "plt.scatter(X_train, y_train,  color='blue')\n",
        "plt.plot(X_train, regressor.coef_[0]*X_train + regressor.intercept_, '-r')\n",
        "plt.xlabel(\"Engine size\")\n",
        "plt.ylabel(\"Emission\")\n",
        "plt.show()"
      ],
      "metadata": {
        "colab": {
          "base_uri": "https://localhost:8080/",
          "height": 449
        },
        "id": "WQJ-TckZwfWo",
        "outputId": "46886244-eafc-4c4b-d215-4101a5bcf59a"
      },
      "execution_count": 33,
      "outputs": [
        {
          "output_type": "display_data",
          "data": {
            "text/plain": [
              "<Figure size 640x480 with 1 Axes>"
            ],
            "image/png": "[encoded data removed]"
          },
          "metadata": {}
        }
      ]
    },
    {
      "cell_type": "markdown",
      "source": [
        "##Model Evaluation"
      ],
      "metadata": {
        "id": "DOeplUIYwyz0"
      }
    },
    {
      "cell_type": "code",
      "source": [
        "from sklearn.metrics import mean_absolute_error, mean_squared_error, r2_score\n",
        "\n",
        "#predict on test data\n",
        "y_pred = regressor.predict(X_test.reshape(-1,1))\n",
        "\n",
        "print(\"Mean absolute error: %.2f\" % mean_absolute_error(y_test, y_pred))\n",
        "print(\"Mean squared error: %.2f\" % mean_squared_error(y_test, y_pred))\n",
        "print(\"Root mean squared error: %.2f\" % np.sqrt(mean_squared_error(y_test, y_pred)))\n",
        "print(\"R2-score: %.2f\" % r2_score(y_test, y_pred))"
      ],
      "metadata": {
        "colab": {
          "base_uri": "https://localhost:8080/"
        },
        "id": "yEcOgg2fwscH",
        "outputId": "f4aba719-0c01-4269-d20a-34a273016883"
      },
      "execution_count": 35,
      "outputs": [
        {
          "output_type": "stream",
          "name": "stdout",
          "text": [
            "Mean absolute error: 24.10\n",
            "Mean squared error: 985.94\n",
            "Root mean squared error: 31.40\n",
            "R2-score: 0.76\n"
          ]
        }
      ]
    },
    {
      "cell_type": "markdown",
      "source": [
        "## Visualization (On Test data)"
      ],
      "metadata": {
        "id": "7dSa-EWEzDsZ"
      }
    },
    {
      "cell_type": "code",
      "source": [
        "plt.scatter(X_test, y_test,  color='blue')\n",
        "plt.plot(X_test, regressor.coef_[0]*X_test + regressor.intercept_, '-r')\n",
        "plt.xlabel(\"Engine size\")\n",
        "plt.ylabel(\"Emission\")\n",
        "plt.show()"
      ],
      "metadata": {
        "colab": {
          "base_uri": "https://localhost:8080/",
          "height": 449
        },
        "id": "I2hCbR8FxTMA",
        "outputId": "86cee7c3-563d-4090-f389-af8a1b03addd"
      },
      "execution_count": 37,
      "outputs": [
        {
          "output_type": "display_data",
          "data": {
            "text/plain": [
              "<Figure size 640x480 with 1 Axes>"
            ],
            "image/png": "[encoded data removed]"
          },
          "metadata": {}
        }
      ]
    },
    {
      "cell_type": "markdown",
      "source": [
        "## Try feature 2: FUELCONSUMPTION_COMB"
      ],
      "metadata": {
        "id": "7eCC3g0gzfQt"
      }
    },
    {
      "cell_type": "code",
      "source": [
        "X=cdf.ENGINESIZE.to_numpy()\n",
        "\n",
        "X_train, X_test, y_train, y_test = train_test_split(X, y, test_size=0.2, random_state=42)"
      ],
      "metadata": {
        "id": "YVe-FcuXzPNF"
      },
      "execution_count": 38,
      "outputs": []
    },
    {
      "cell_type": "code",
      "source": [
        "model2 = linear_model.LinearRegression()\n",
        "model2.fit(X_train.reshape(-1,1), y_train)"
      ],
      "metadata": {
        "colab": {
          "base_uri": "https://localhost:8080/",
          "height": 80
        },
        "id": "dZTB5AhHzq6B",
        "outputId": "cadeb377-b44b-42bc-e1b8-971db795ffb2"
      },
      "execution_count": 39,
      "outputs": [
        {
          "output_type": "execute_result",
          "data": {
            "text/plain": [
              "LinearRegression()"
            ],
            "text/html": [
              "<style>#sk-container-id-1 {\n",
              "  /* Definition of color scheme common for light and dark mode */\n",
              "  --sklearn-color-text: #000;\n",
              "  --sklearn-color-text-muted: #666;\n",
              "  --sklearn-color-line: gray;\n",
              "  /* Definition of color scheme for unfitted estimators */\n",
              "  --sklearn-color-unfitted-level-0: #fff5e6;\n",
              "  --sklearn-color-unfitted-level-1: #f6e4d2;\n",
              "  --sklearn-color-unfitted-level-2: #ffe0b3;\n",
              "  --sklearn-color-unfitted-level-3: chocolate;\n",
              "  /* Definition of color scheme for fitted estimators */\n",
              "  --sklearn-color-fitted-level-0: #f0f8ff;\n",
              "  --sklearn-color-fitted-level-1: #d4ebff;\n",
              "  --sklearn-color-fitted-level-2: #b3dbfd;\n",
              "  --sklearn-color-fitted-level-3: cornflowerblue;\n",
              "\n",
              "  /* Specific color for light theme */\n",
              "  --sklearn-color-text-on-default-background: var(--sg-text-color, var(--theme-code-foreground, var(--jp-content-font-color1, black)));\n",
              "  --sklearn-color-background: var(--sg-background-color, var(--theme-background, var(--jp-layout-color0, white)));\n",
              "  --sklearn-color-border-box: var(--sg-text-color, var(--theme-code-foreground, var(--jp-content-font-color1, black)));\n",
              "  --sklearn-color-icon: #696969;\n",
              "\n",
              "  @media (prefers-color-scheme: dark) {\n",
              "    /* Redefinition of color scheme for dark theme */\n",
              "    --sklearn-color-text-on-default-background: var(--sg-text-color, var(--theme-code-foreground, var(--jp-content-font-color1, white)));\n",
              "    --sklearn-color-background: var(--sg-background-color, var(--theme-background, var(--jp-layout-color0, #111)));\n",
              "    --sklearn-color-border-box: var(--sg-text-color, var(--theme-code-foreground, var(--jp-content-font-color1, white)));\n",
              "    --sklearn-color-icon: #878787;\n",
              "  }\n",
              "}\n",
              "\n",
              "#sk-container-id-1 {\n",
              "  color: var(--sklearn-color-text);\n",
              "}\n",
              "\n",
              "#sk-container-id-1 pre {\n",
              "  padding: 0;\n",
              "}\n",
              "\n",
              "#sk-container-id-1 input.sk-hidden--visually {\n",
              "  border: 0;\n",
              "  clip: rect(1px 1px 1px 1px);\n",
              "  clip: rect(1px, 1px, 1px, 1px);\n",
              "  height: 1px;\n",
              "  margin: -1px;\n",
              "  overflow: hidden;\n",
              "  padding: 0;\n",
              "  position: absolute;\n",
              "  width: 1px;\n",
              "}\n",
              "\n",
              "#sk-container-id-1 div.sk-dashed-wrapped {\n",
              "  border: 1px dashed var(--sklearn-color-line);\n",
              "  margin: 0 0.4em 0.5em 0.4em;\n",
              "  box-sizing: border-box;\n",
              "  padding-bottom: 0.4em;\n",
              "  background-color: var(--sklearn-color-background);\n",
              "}\n",
              "\n",
              "#sk-container-id-1 div.sk-container {\n",
              "  /* jupyter's `normalize.less` sets `[hidden] { display: none; }`\n",
              "     but bootstrap.min.css set `[hidden] { display: none !important; }`\n",
              "     so we also need the `!important` here to be able to override the\n",
              "     default hidden behavior on the sphinx rendered scikit-learn.org.\n",
              "     See: https://github.com/scikit-learn/scikit-learn/issues/21755 */\n",
              "  display: inline-block !important;\n",
              "  position: relative;\n",
              "}\n",
              "\n",
              "#sk-container-id-1 div.sk-text-repr-fallback {\n",
              "  display: none;\n",
              "}\n",
              "\n",
              "div.sk-parallel-item,\n",
              "div.sk-serial,\n",
              "div.sk-item {\n",
              "  /* draw centered vertical line to link estimators */\n",
              "  background-image: linear-gradient(var(--sklearn-color-text-on-default-background), var(--sklearn-color-text-on-default-background));\n",
              "  background-size: 2px 100%;\n",
              "  background-repeat: no-repeat;\n",
              "  background-position: center center;\n",
              "}\n",
              "\n",
              "/* Parallel-specific style estimator block */\n",
              "\n",
              "#sk-container-id-1 div.sk-parallel-item::after {\n",
              "  content: \"\";\n",
              "  width: 100%;\n",
              "  border-bottom: 2px solid var(--sklearn-color-text-on-default-background);\n",
              "  flex-grow: 1;\n",
              "}\n",
              "\n",
              "#sk-container-id-1 div.sk-parallel {\n",
              "  display: flex;\n",
              "  align-items: stretch;\n",
              "  justify-content: center;\n",
              "  background-color: var(--sklearn-color-background);\n",
              "  position: relative;\n",
              "}\n",
              "\n",
              "#sk-container-id-1 div.sk-parallel-item {\n",
              "  display: flex;\n",
              "  flex-direction: column;\n",
              "}\n",
              "\n",
              "#sk-container-id-1 div.sk-parallel-item:first-child::after {\n",
              "  align-self: flex-end;\n",
              "  width: 50%;\n",
              "}\n",
              "\n",
              "#sk-container-id-1 div.sk-parallel-item:last-child::after {\n",
              "  align-self: flex-start;\n",
              "  width: 50%;\n",
              "}\n",
              "\n",
              "#sk-container-id-1 div.sk-parallel-item:only-child::after {\n",
              "  width: 0;\n",
              "}\n",
              "\n",
              "/* Serial-specific style estimator block */\n",
              "\n",
              "#sk-container-id-1 div.sk-serial {\n",
              "  display: flex;\n",
              "  flex-direction: column;\n",
              "  align-items: center;\n",
              "  background-color: var(--sklearn-color-background);\n",
              "  padding-right: 1em;\n",
              "  padding-left: 1em;\n",
              "}\n",
              "\n",
              "\n",
              "/* Toggleable style: style used for estimator/Pipeline/ColumnTransformer box that is\n",
              "clickable and can be expanded/collapsed.\n",
              "- Pipeline and ColumnTransformer use this feature and define the default style\n",
              "- Estimators will overwrite some part of the style using the `sk-estimator` class\n",
              "*/\n",
              "\n",
              "/* Pipeline and ColumnTransformer style (default) */\n",
              "\n",
              "#sk-container-id-1 div.sk-toggleable {\n",
              "  /* Default theme specific background. It is overwritten whether we have a\n",
              "  specific estimator or a Pipeline/ColumnTransformer */\n",
              "  background-color: var(--sklearn-color-background);\n",
              "}\n",
              "\n",
              "/* Toggleable label */\n",
              "#sk-container-id-1 label.sk-toggleable__label {\n",
              "  cursor: pointer;\n",
              "  display: flex;\n",
              "  width: 100%;\n",
              "  margin-bottom: 0;\n",
              "  padding: 0.5em;\n",
              "  box-sizing: border-box;\n",
              "  text-align: center;\n",
              "  align-items: start;\n",
              "  justify-content: space-between;\n",
              "  gap: 0.5em;\n",
              "}\n",
              "\n",
              "#sk-container-id-1 label.sk-toggleable__label .caption {\n",
              "  font-size: 0.6rem;\n",
              "  font-weight: lighter;\n",
              "  color: var(--sklearn-color-text-muted);\n",
              "}\n",
              "\n",
              "#sk-container-id-1 label.sk-toggleable__label-arrow:before {\n",
              "  /* Arrow on the left of the label */\n",
              "  content: \"▸\";\n",
              "  float: left;\n",
              "  margin-right: 0.25em;\n",
              "  color: var(--sklearn-color-icon);\n",
              "}\n",
              "\n",
              "#sk-container-id-1 label.sk-toggleable__label-arrow:hover:before {\n",
              "  color: var(--sklearn-color-text);\n",
              "}\n",
              "\n",
              "/* Toggleable content - dropdown */\n",
              "\n",
              "#sk-container-id-1 div.sk-toggleable__content {\n",
              "  max-height: 0;\n",
              "  max-width: 0;\n",
              "  overflow: hidden;\n",
              "  text-align: left;\n",
              "  /* unfitted */\n",
              "  background-color: var(--sklearn-color-unfitted-level-0);\n",
              "}\n",
              "\n",
              "#sk-container-id-1 div.sk-toggleable__content.fitted {\n",
              "  /* fitted */\n",
              "  background-color: var(--sklearn-color-fitted-level-0);\n",
              "}\n",
              "\n",
              "#sk-container-id-1 div.sk-toggleable__content pre {\n",
              "  margin: 0.2em;\n",
              "  border-radius: 0.25em;\n",
              "  color: var(--sklearn-color-text);\n",
              "  /* unfitted */\n",
              "  background-color: var(--sklearn-color-unfitted-level-0);\n",
              "}\n",
              "\n",
              "#sk-container-id-1 div.sk-toggleable__content.fitted pre {\n",
              "  /* unfitted */\n",
              "  background-color: var(--sklearn-color-fitted-level-0);\n",
              "}\n",
              "\n",
              "#sk-container-id-1 input.sk-toggleable__control:checked~div.sk-toggleable__content {\n",
              "  /* Expand drop-down */\n",
              "  max-height: 200px;\n",
              "  max-width: 100%;\n",
              "  overflow: auto;\n",
              "}\n",
              "\n",
              "#sk-container-id-1 input.sk-toggleable__control:checked~label.sk-toggleable__label-arrow:before {\n",
              "  content: \"▾\";\n",
              "}\n",
              "\n",
              "/* Pipeline/ColumnTransformer-specific style */\n",
              "\n",
              "#sk-container-id-1 div.sk-label input.sk-toggleable__control:checked~label.sk-toggleable__label {\n",
              "  color: var(--sklearn-color-text);\n",
              "  background-color: var(--sklearn-color-unfitted-level-2);\n",
              "}\n",
              "\n",
              "#sk-container-id-1 div.sk-label.fitted input.sk-toggleable__control:checked~label.sk-toggleable__label {\n",
              "  background-color: var(--sklearn-color-fitted-level-2);\n",
              "}\n",
              "\n",
              "/* Estimator-specific style */\n",
              "\n",
              "/* Colorize estimator box */\n",
              "#sk-container-id-1 div.sk-estimator input.sk-toggleable__control:checked~label.sk-toggleable__label {\n",
              "  /* unfitted */\n",
              "  background-color: var(--sklearn-color-unfitted-level-2);\n",
              "}\n",
              "\n",
              "#sk-container-id-1 div.sk-estimator.fitted input.sk-toggleable__control:checked~label.sk-toggleable__label {\n",
              "  /* fitted */\n",
              "  background-color: var(--sklearn-color-fitted-level-2);\n",
              "}\n",
              "\n",
              "#sk-container-id-1 div.sk-label label.sk-toggleable__label,\n",
              "#sk-container-id-1 div.sk-label label {\n",
              "  /* The background is the default theme color */\n",
              "  color: var(--sklearn-color-text-on-default-background);\n",
              "}\n",
              "\n",
              "/* On hover, darken the color of the background */\n",
              "#sk-container-id-1 div.sk-label:hover label.sk-toggleable__label {\n",
              "  color: var(--sklearn-color-text);\n",
              "  background-color: var(--sklearn-color-unfitted-level-2);\n",
              "}\n",
              "\n",
              "/* Label box, darken color on hover, fitted */\n",
              "#sk-container-id-1 div.sk-label.fitted:hover label.sk-toggleable__label.fitted {\n",
              "  color: var(--sklearn-color-text);\n",
              "  background-color: var(--sklearn-color-fitted-level-2);\n",
              "}\n",
              "\n",
              "/* Estimator label */\n",
              "\n",
              "#sk-container-id-1 div.sk-label label {\n",
              "  font-family: monospace;\n",
              "  font-weight: bold;\n",
              "  display: inline-block;\n",
              "  line-height: 1.2em;\n",
              "}\n",
              "\n",
              "#sk-container-id-1 div.sk-label-container {\n",
              "  text-align: center;\n",
              "}\n",
              "\n",
              "/* Estimator-specific */\n",
              "#sk-container-id-1 div.sk-estimator {\n",
              "  font-family: monospace;\n",
              "  border: 1px dotted var(--sklearn-color-border-box);\n",
              "  border-radius: 0.25em;\n",
              "  box-sizing: border-box;\n",
              "  margin-bottom: 0.5em;\n",
              "  /* unfitted */\n",
              "  background-color: var(--sklearn-color-unfitted-level-0);\n",
              "}\n",
              "\n",
              "#sk-container-id-1 div.sk-estimator.fitted {\n",
              "  /* fitted */\n",
              "  background-color: var(--sklearn-color-fitted-level-0);\n",
              "}\n",
              "\n",
              "/* on hover */\n",
              "#sk-container-id-1 div.sk-estimator:hover {\n",
              "  /* unfitted */\n",
              "  background-color: var(--sklearn-color-unfitted-level-2);\n",
              "}\n",
              "\n",
              "#sk-container-id-1 div.sk-estimator.fitted:hover {\n",
              "  /* fitted */\n",
              "  background-color: var(--sklearn-color-fitted-level-2);\n",
              "}\n",
              "\n",
              "/* Specification for estimator info (e.g. \"i\" and \"?\") */\n",
              "\n",
              "/* Common style for \"i\" and \"?\" */\n",
              "\n",
              ".sk-estimator-doc-link,\n",
              "a:link.sk-estimator-doc-link,\n",
              "a:visited.sk-estimator-doc-link {\n",
              "  float: right;\n",
              "  font-size: smaller;\n",
              "  line-height: 1em;\n",
              "  font-family: monospace;\n",
              "  background-color: var(--sklearn-color-background);\n",
              "  border-radius: 1em;\n",
              "  height: 1em;\n",
              "  width: 1em;\n",
              "  text-decoration: none !important;\n",
              "  margin-left: 0.5em;\n",
              "  text-align: center;\n",
              "  /* unfitted */\n",
              "  border: var(--sklearn-color-unfitted-level-1) 1pt solid;\n",
              "  color: var(--sklearn-color-unfitted-level-1);\n",
              "}\n",
              "\n",
              ".sk-estimator-doc-link.fitted,\n",
              "a:link.sk-estimator-doc-link.fitted,\n",
              "a:visited.sk-estimator-doc-link.fitted {\n",
              "  /* fitted */\n",
              "  border: var(--sklearn-color-fitted-level-1) 1pt solid;\n",
              "  color: var(--sklearn-color-fitted-level-1);\n",
              "}\n",
              "\n",
              "/* On hover */\n",
              "div.sk-estimator:hover .sk-estimator-doc-link:hover,\n",
              ".sk-estimator-doc-link:hover,\n",
              "div.sk-label-container:hover .sk-estimator-doc-link:hover,\n",
              ".sk-estimator-doc-link:hover {\n",
              "  /* unfitted */\n",
              "  background-color: var(--sklearn-color-unfitted-level-3);\n",
              "  color: var(--sklearn-color-background);\n",
              "  text-decoration: none;\n",
              "}\n",
              "\n",
              "div.sk-estimator.fitted:hover .sk-estimator-doc-link.fitted:hover,\n",
              ".sk-estimator-doc-link.fitted:hover,\n",
              "div.sk-label-container:hover .sk-estimator-doc-link.fitted:hover,\n",
              ".sk-estimator-doc-link.fitted:hover {\n",
              "  /* fitted */\n",
              "  background-color: var(--sklearn-color-fitted-level-3);\n",
              "  color: var(--sklearn-color-background);\n",
              "  text-decoration: none;\n",
              "}\n",
              "\n",
              "/* Span, style for the box shown on hovering the info icon */\n",
              ".sk-estimator-doc-link span {\n",
              "  display: none;\n",
              "  z-index: 9999;\n",
              "  position: relative;\n",
              "  font-weight: normal;\n",
              "  right: .2ex;\n",
              "  padding: .5ex;\n",
              "  margin: .5ex;\n",
              "  width: min-content;\n",
              "  min-width: 20ex;\n",
              "  max-width: 50ex;\n",
              "  color: var(--sklearn-color-text);\n",
              "  box-shadow: 2pt 2pt 4pt #999;\n",
              "  /* unfitted */\n",
              "  background: var(--sklearn-color-unfitted-level-0);\n",
              "  border: .5pt solid var(--sklearn-color-unfitted-level-3);\n",
              "}\n",
              "\n",
              ".sk-estimator-doc-link.fitted span {\n",
              "  /* fitted */\n",
              "  background: var(--sklearn-color-fitted-level-0);\n",
              "  border: var(--sklearn-color-fitted-level-3);\n",
              "}\n",
              "\n",
              ".sk-estimator-doc-link:hover span {\n",
              "  display: block;\n",
              "}\n",
              "\n",
              "/* \"?\"-specific style due to the `<a>` HTML tag */\n",
              "\n",
              "#sk-container-id-1 a.estimator_doc_link {\n",
              "  float: right;\n",
              "  font-size: 1rem;\n",
              "  line-height: 1em;\n",
              "  font-family: monospace;\n",
              "  background-color: var(--sklearn-color-background);\n",
              "  border-radius: 1rem;\n",
              "  height: 1rem;\n",
              "  width: 1rem;\n",
              "  text-decoration: none;\n",
              "  /* unfitted */\n",
              "  color: var(--sklearn-color-unfitted-level-1);\n",
              "  border: var(--sklearn-color-unfitted-level-1) 1pt solid;\n",
              "}\n",
              "\n",
              "#sk-container-id-1 a.estimator_doc_link.fitted {\n",
              "  /* fitted */\n",
              "  border: var(--sklearn-color-fitted-level-1) 1pt solid;\n",
              "  color: var(--sklearn-color-fitted-level-1);\n",
              "}\n",
              "\n",
              "/* On hover */\n",
              "#sk-container-id-1 a.estimator_doc_link:hover {\n",
              "  /* unfitted */\n",
              "  background-color: var(--sklearn-color-unfitted-level-3);\n",
              "  color: var(--sklearn-color-background);\n",
              "  text-decoration: none;\n",
              "}\n",
              "\n",
              "#sk-container-id-1 a.estimator_doc_link.fitted:hover {\n",
              "  /* fitted */\n",
              "  background-color: var(--sklearn-color-fitted-level-3);\n",
              "}\n",
              "</style><div id=\"sk-container-id-1\" class=\"sk-top-container\"><div class=\"sk-text-repr-fallback\"><pre>LinearRegression()</pre><b>In a Jupyter environment, please rerun this cell to show the HTML representation or trust the notebook. <br />On GitHub, the HTML representation is unable to render, please try loading this page with nbviewer.org.</b></div><div class=\"sk-container\" hidden><div class=\"sk-item\"><div class=\"sk-estimator fitted sk-toggleable\"><input class=\"sk-toggleable__control sk-hidden--visually\" id=\"sk-estimator-id-1\" type=\"checkbox\" checked><label for=\"sk-estimator-id-1\" class=\"sk-toggleable__label fitted sk-toggleable__label-arrow\"><div><div>LinearRegression</div></div><div><a class=\"sk-estimator-doc-link fitted\" rel=\"noreferrer\" target=\"_blank\" href=\"https://scikit-learn.org/1.6/modules/generated/sklearn.linear_model.LinearRegression.html\">?<span>Documentation for LinearRegression</span></a><span class=\"sk-estimator-doc-link fitted\">i<span>Fitted</span></span></div></label><div class=\"sk-toggleable__content fitted\"><pre>LinearRegression()</pre></div> </div></div></div></div>"
            ]
          },
          "metadata": {},
          "execution_count": 39
        }
      ]
    },
    {
      "cell_type": "code",
      "source": [
        "y_pred2 = model2.predict(X_test.reshape(-1,1))"
      ],
      "metadata": {
        "id": "FoD9-W8xzxA8"
      },
      "execution_count": 40,
      "outputs": []
    },
    {
      "cell_type": "code",
      "source": [
        "print(\"MSE: %.2f\" %mean_squared_error(y_test, y_pred2))"
      ],
      "metadata": {
        "colab": {
          "base_uri": "https://localhost:8080/"
        },
        "id": "23vNZMpHz2zK",
        "outputId": "2cf0bdec-2e96-4e85-d298-247e0c3dc2f3"
      },
      "execution_count": 43,
      "outputs": [
        {
          "output_type": "stream",
          "name": "stdout",
          "text": [
            "MSE: 985.94\n"
          ]
        }
      ]
    },
    {
      "cell_type": "markdown",
      "source": [
        "#Conclusion"
      ],
      "metadata": {
        "id": "c0qXYIdI0JOK"
      }
    },
    {
      "cell_type": "markdown",
      "source": [
        "MSE of FUELCONSUMPTION_COMB smaller than ENGINESIZE."
      ],
      "metadata": {
        "id": "Mms_n-VP0MRo"
      }
    }
  ]
}